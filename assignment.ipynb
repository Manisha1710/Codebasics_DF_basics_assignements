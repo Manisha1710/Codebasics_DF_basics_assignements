{
 "cells": [
  {
   "cell_type": "markdown",
   "id": "d4c0260f",
   "metadata": {},
   "source": [
    "## Problem Statement\n",
    "\n",
    "An e-commerce company is evaluating two different website designs to see which one results in higher customer engagement. Design A is the current design, while Design B incorporates new features aimed at improving user experience. The company hypothesizes that Design B will lead to a higher average time spent on the website by users.\n",
    "\n",
    "**Datasets:**\n",
    "- current_design.csv: Contains data for user interactions with the current website design (Design A), with columns user_id and time_spent_minutes.\n",
    "- new_design.csv: Contains data for user interactions with the new website design (Design B), with columns user_id and time_spent_minutes.\n",
    "\n",
    "**Objective:**\n",
    "- To determine whether Design B results in a higher average time spent on the website compared to Design A. "
   ]
  },
  {
   "cell_type": "code",
   "execution_count": null,
   "id": "39a3e359",
   "metadata": {},
   "outputs": [],
   "source": []
  },
  {
   "cell_type": "markdown",
   "id": "b946b9ad",
   "metadata": {},
   "source": [
    "**Steps to perform:**\n",
    "- Set the null and alternate hypothesis for this analysis.\n",
    "- Load the datasets current_design.csv and new_design.csv.\n",
    "- Calculate the mean and standard deviation of the time spent for both designs.\n",
    "- Determine the sizes of both groups.\n",
    "- Calculate the z-score to compare the means of both groups.\n",
    "- Set the significance level (alpha) at 5% for a right-tailed test.\n",
    "- Calculate the critical z-value for the right-tailed test at the 5% significance level.\n",
    "- Compare the calculated z-score with the critical z-value to decide whether to reject the null hypothesis.\n",
    "- Write down your observations in the end."
   ]
  },
  {
   "cell_type": "markdown",
   "id": "ae3dfabc",
   "metadata": {},
   "source": [
    "**Import Necessary Libraries**"
   ]
  },
  {
   "cell_type": "code",
   "execution_count": 1,
   "id": "55ce8a7f",
   "metadata": {
    "ExecuteTime": {
     "end_time": "2024-06-06T10:39:53.050947Z",
     "start_time": "2024-06-06T10:39:51.501166Z"
    }
   },
   "outputs": [],
   "source": [
    " import pandas as pd \n",
    "import numpy as np \n",
    "import seaborn as sns \n",
    "from matplotlib import pyplot as plt \n",
    "from scipy import stats as st "
   ]
  },
  {
   "cell_type": "markdown",
   "id": "659d9a03",
   "metadata": {},
   "source": [
    "**Define hypothesis**\n",
    "\n"
   ]
  },
  {
   "cell_type": "code",
   "execution_count": 12,
   "id": "778e614a",
   "metadata": {
    "ExecuteTime": {
     "end_time": "2024-06-06T10:49:32.871495Z",
     "start_time": "2024-06-06T10:49:32.866317Z"
    }
   },
   "outputs": [],
   "source": [
    "#H0: design_A_mean has higher average time than design_B_mean\n",
    "#Ha: design_B_mean has higher average time than design_A_mean "
   ]
  },
  {
   "cell_type": "markdown",
   "id": "701b1225",
   "metadata": {},
   "source": [
    "**1: Load the datasets**"
   ]
  },
  {
   "cell_type": "code",
   "execution_count": 8,
   "id": "091fccee",
   "metadata": {
    "ExecuteTime": {
     "end_time": "2024-06-06T10:45:50.415646Z",
     "start_time": "2024-06-06T10:45:50.383797Z"
    }
   },
   "outputs": [
    {
     "data": {
      "text/html": [
       "<div>\n",
       "<style scoped>\n",
       "    .dataframe tbody tr th:only-of-type {\n",
       "        vertical-align: middle;\n",
       "    }\n",
       "\n",
       "    .dataframe tbody tr th {\n",
       "        vertical-align: top;\n",
       "    }\n",
       "\n",
       "    .dataframe thead th {\n",
       "        text-align: right;\n",
       "    }\n",
       "</style>\n",
       "<table border=\"1\" class=\"dataframe\">\n",
       "  <thead>\n",
       "    <tr style=\"text-align: right;\">\n",
       "      <th></th>\n",
       "      <th>user_id</th>\n",
       "      <th>time_spent_minutes</th>\n",
       "    </tr>\n",
       "  </thead>\n",
       "  <tbody>\n",
       "    <tr>\n",
       "      <th>0</th>\n",
       "      <td>C001</td>\n",
       "      <td>5.93</td>\n",
       "    </tr>\n",
       "    <tr>\n",
       "      <th>1</th>\n",
       "      <td>C002</td>\n",
       "      <td>5.21</td>\n",
       "    </tr>\n",
       "    <tr>\n",
       "      <th>2</th>\n",
       "      <td>C003</td>\n",
       "      <td>5.07</td>\n",
       "    </tr>\n",
       "    <tr>\n",
       "      <th>3</th>\n",
       "      <td>C004</td>\n",
       "      <td>5.06</td>\n",
       "    </tr>\n",
       "    <tr>\n",
       "      <th>4</th>\n",
       "      <td>C005</td>\n",
       "      <td>6.33</td>\n",
       "    </tr>\n",
       "  </tbody>\n",
       "</table>\n",
       "</div>"
      ],
      "text/plain": [
       "  user_id  time_spent_minutes\n",
       "0    C001                5.93\n",
       "1    C002                5.21\n",
       "2    C003                5.07\n",
       "3    C004                5.06\n",
       "4    C005                6.33"
      ]
     },
     "execution_count": 8,
     "metadata": {},
     "output_type": "execute_result"
    }
   ],
   "source": [
    "design_A_group = pd.read_csv(\"current_design.csv\")\n",
    "design_A_group.head()"
   ]
  },
  {
   "cell_type": "code",
   "execution_count": 9,
   "id": "b2205889",
   "metadata": {
    "ExecuteTime": {
     "end_time": "2024-06-06T10:47:02.178203Z",
     "start_time": "2024-06-06T10:47:02.156969Z"
    }
   },
   "outputs": [
    {
     "data": {
      "text/html": [
       "<div>\n",
       "<style scoped>\n",
       "    .dataframe tbody tr th:only-of-type {\n",
       "        vertical-align: middle;\n",
       "    }\n",
       "\n",
       "    .dataframe tbody tr th {\n",
       "        vertical-align: top;\n",
       "    }\n",
       "\n",
       "    .dataframe thead th {\n",
       "        text-align: right;\n",
       "    }\n",
       "</style>\n",
       "<table border=\"1\" class=\"dataframe\">\n",
       "  <thead>\n",
       "    <tr style=\"text-align: right;\">\n",
       "      <th></th>\n",
       "      <th>user_id</th>\n",
       "      <th>time_spent_minutes</th>\n",
       "    </tr>\n",
       "  </thead>\n",
       "  <tbody>\n",
       "    <tr>\n",
       "      <th>0</th>\n",
       "      <td>T001</td>\n",
       "      <td>7.49</td>\n",
       "    </tr>\n",
       "    <tr>\n",
       "      <th>1</th>\n",
       "      <td>T002</td>\n",
       "      <td>7.37</td>\n",
       "    </tr>\n",
       "    <tr>\n",
       "      <th>2</th>\n",
       "      <td>T003</td>\n",
       "      <td>7.32</td>\n",
       "    </tr>\n",
       "    <tr>\n",
       "      <th>3</th>\n",
       "      <td>T004</td>\n",
       "      <td>6.85</td>\n",
       "    </tr>\n",
       "    <tr>\n",
       "      <th>4</th>\n",
       "      <td>T005</td>\n",
       "      <td>7.10</td>\n",
       "    </tr>\n",
       "  </tbody>\n",
       "</table>\n",
       "</div>"
      ],
      "text/plain": [
       "  user_id  time_spent_minutes\n",
       "0    T001                7.49\n",
       "1    T002                7.37\n",
       "2    T003                7.32\n",
       "3    T004                6.85\n",
       "4    T005                7.10"
      ]
     },
     "execution_count": 9,
     "metadata": {},
     "output_type": "execute_result"
    }
   ],
   "source": [
    "design_B_group = pd.read_csv(\"new_design.csv\")\n",
    "design_B_group.head()"
   ]
  },
  {
   "cell_type": "markdown",
   "id": "66ef2266",
   "metadata": {},
   "source": [
    "**2: Calculate the mean and standard deviation of the time spent for both designs.**"
   ]
  },
  {
   "cell_type": "code",
   "execution_count": 25,
   "id": "c074aa36",
   "metadata": {
    "ExecuteTime": {
     "end_time": "2024-06-06T12:26:23.107193Z",
     "start_time": "2024-06-06T12:26:23.081182Z"
    }
   },
   "outputs": [
    {
     "data": {
      "text/plain": [
       "(6.015199999999998, 0.6182550877553322, 100)"
      ]
     },
     "execution_count": 25,
     "metadata": {},
     "output_type": "execute_result"
    }
   ],
   "source": [
    "#control statistics\n",
    "design_A_mean = design_A_group.time_spent_minutes.mean()\n",
    "design_A_std = design_A_group.time_spent_minutes.std()\n",
    "design_A_size = design_A_group.shape[0]\n",
    "\n",
    "design_A_mean,design_A_std,design_A_size\n"
   ]
  },
  {
   "cell_type": "code",
   "execution_count": 26,
   "id": "bbadf26f",
   "metadata": {
    "ExecuteTime": {
     "end_time": "2024-06-06T12:26:28.584247Z",
     "start_time": "2024-06-06T12:26:28.570319Z"
    }
   },
   "outputs": [
    {
     "data": {
      "text/plain": [
       "(8.062599999999998, 0.9025257711981236, 100)"
      ]
     },
     "execution_count": 26,
     "metadata": {},
     "output_type": "execute_result"
    }
   ],
   "source": [
    "#test statistics\n",
    "design_B_mean = design_B_group.time_spent_minutes.mean()\n",
    "design_B_std = design_B_group.time_spent_minutes.std()\n",
    "design_B_size = design_B_group.shape [0]\n",
    "\n",
    "design_B_mean,design_B_std, design_B_size"
   ]
  },
  {
   "cell_type": "markdown",
   "id": "534af8ed",
   "metadata": {},
   "source": [
    "**3: Test using rejection region (i.e. critical z value)**"
   ]
  },
  {
   "cell_type": "code",
   "execution_count": null,
   "id": "9ccae397",
   "metadata": {},
   "outputs": [],
   "source": []
  },
  {
   "cell_type": "code",
   "execution_count": 27,
   "id": "ea9c7905",
   "metadata": {
    "ExecuteTime": {
     "end_time": "2024-06-06T12:26:33.366488Z",
     "start_time": "2024-06-06T12:26:33.356431Z"
    }
   },
   "outputs": [
    {
     "data": {
      "text/plain": [
       "(0.0038223935353535353, 0.008145527676767678, 18.715151117476786)"
      ]
     },
     "execution_count": 27,
     "metadata": {},
     "output_type": "execute_result"
    }
   ],
   "source": [
    "a = (design_A_std**2/design_A_size)\n",
    "b = (design_B_std**2/design_B_size)\n",
    "\n",
    "z_score= (design_B_mean-design_A_mean)/np.sqrt(a+b)\n",
    "\n",
    "a,b,z_score"
   ]
  },
  {
   "cell_type": "code",
   "execution_count": 22,
   "id": "4901d235",
   "metadata": {
    "ExecuteTime": {
     "end_time": "2024-06-06T12:22:44.350070Z",
     "start_time": "2024-06-06T12:22:44.312218Z"
    }
   },
   "outputs": [
    {
     "data": {
      "text/plain": [
       "1.6448536269514722"
      ]
     },
     "execution_count": 22,
     "metadata": {},
     "output_type": "execute_result"
    }
   ],
   "source": [
    "alpha = 0.05 \n",
    "\n",
    "z_critical_value = st.norm.ppf(1-0.05)\n",
    "\n",
    "z_critical_value "
   ]
  },
  {
   "cell_type": "code",
   "execution_count": 23,
   "id": "16d25037",
   "metadata": {
    "ExecuteTime": {
     "end_time": "2024-06-06T12:22:47.436850Z",
     "start_time": "2024-06-06T12:22:47.425046Z"
    }
   },
   "outputs": [
    {
     "data": {
      "text/plain": [
       "True"
      ]
     },
     "execution_count": 23,
     "metadata": {},
     "output_type": "execute_result"
    }
   ],
   "source": [
    "z_score > z_critical_value"
   ]
  },
  {
   "cell_type": "markdown",
   "id": "9b2d4612",
   "metadata": {},
   "source": [
    "### Observations and Conclusion\n",
    "\n"
   ]
  },
  {
   "cell_type": "markdown",
   "id": "39ec461e",
   "metadata": {},
   "source": [
    "Z_score is greater than z_Critical value hence we reject the null hypothesis\n",
    "\n",
    "It means that Design B results in a higher average time spent on the website compared to Design A."
   ]
  }
 ],
 "metadata": {
  "kernelspec": {
   "display_name": "Python 3 (ipykernel)",
   "language": "python",
   "name": "python3"
  },
  "language_info": {
   "codemirror_mode": {
    "name": "ipython",
    "version": 3
   },
   "file_extension": ".py",
   "mimetype": "text/x-python",
   "name": "python",
   "nbconvert_exporter": "python",
   "pygments_lexer": "ipython3",
   "version": "3.8.10"
  },
  "toc": {
   "base_numbering": 1,
   "nav_menu": {},
   "number_sections": true,
   "sideBar": true,
   "skip_h1_title": false,
   "title_cell": "Table of Contents",
   "title_sidebar": "Contents",
   "toc_cell": false,
   "toc_position": {},
   "toc_section_display": true,
   "toc_window_display": false
  },
  "varInspector": {
   "cols": {
    "lenName": 16,
    "lenType": 16,
    "lenVar": 40
   },
   "kernels_config": {
    "python": {
     "delete_cmd_postfix": "",
     "delete_cmd_prefix": "del ",
     "library": "var_list.py",
     "varRefreshCmd": "print(var_dic_list())"
    },
    "r": {
     "delete_cmd_postfix": ") ",
     "delete_cmd_prefix": "rm(",
     "library": "var_list.r",
     "varRefreshCmd": "cat(var_dic_list()) "
    }
   },
   "types_to_exclude": [
    "module",
    "function",
    "builtin_function_or_method",
    "instance",
    "_Feature"
   ],
   "window_display": false
  }
 },
 "nbformat": 4,
 "nbformat_minor": 5
}
