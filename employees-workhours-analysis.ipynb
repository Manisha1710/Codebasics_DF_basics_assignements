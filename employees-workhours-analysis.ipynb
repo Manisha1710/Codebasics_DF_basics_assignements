{
 "cells": [
  {
   "cell_type": "markdown",
   "id": "f2a42236",
   "metadata": {},
   "source": [
    "## Problem Statement\n",
    "\n",
    "\n",
    "You are a data scientist at a management consulting firm specializing in workplace efficiency and employee productivity. You have been provided with a dataset named **\"employees_work_hours_data.csv\"**, containing detailed records of employees’ work hours and related attributes in a corporate setting. The dataset includes the following columns:\n",
    "\n",
    "- **employee_id:** A unique identifier for each employee.\n",
    "- **department:** The department where the employee works (e.g., Sales, IT, HR).\n",
    "- **remote_working:** Indicates whether the employee is working remotely (Yes/No).\n",
    "- **hours_worked_per_day:** The average number of hours the employee works per day."
   ]
  },
  {
   "cell_type": "markdown",
   "id": "f864cedf",
   "metadata": {},
   "source": [
    "**Import Necessary Libraries**"
   ]
  },
  {
   "cell_type": "code",
   "execution_count": 2,
   "id": "1461f7c7",
   "metadata": {
    "ExecuteTime": {
     "end_time": "2024-05-21T18:05:11.059832Z",
     "start_time": "2024-05-21T18:05:11.051137Z"
    }
   },
   "outputs": [],
   "source": [
    "import pandas as pd \n",
    "import numpy as np\n",
    "from matplotlib import pyplot as plt\n",
    "import seaborn as sns"
   ]
  },
  {
   "cell_type": "markdown",
   "id": "c33a8f65",
   "metadata": {},
   "source": [
    "### Task1: Importing and Examining the Dataset\n",
    "\n",
    "1. Import the data from the \"employees_work_hours_data.csv\" file.\n",
    "2. display the number of rows and columns. \n",
    "3. Display the first few rows of the dataset to get an overview.\n"
   ]
  },
  {
   "cell_type": "code",
   "execution_count": 3,
   "id": "354c5b81",
   "metadata": {
    "ExecuteTime": {
     "end_time": "2024-05-21T18:06:17.518728Z",
     "start_time": "2024-05-21T18:06:17.503053Z"
    }
   },
   "outputs": [],
   "source": [
    "# import the data from the employess_work_hours_data.csv\n",
    "df = pd.read_csv(\"employees_work_hours_data.csv\")"
   ]
  },
  {
   "cell_type": "code",
   "execution_count": 4,
   "id": "63535c26",
   "metadata": {
    "ExecuteTime": {
     "end_time": "2024-05-21T18:06:51.538437Z",
     "start_time": "2024-05-21T18:06:51.520946Z"
    }
   },
   "outputs": [
    {
     "data": {
      "text/plain": [
       "(2800, 4)"
      ]
     },
     "execution_count": 4,
     "metadata": {},
     "output_type": "execute_result"
    }
   ],
   "source": [
    "# display the number of rows and columns\n",
    "df.shape"
   ]
  },
  {
   "cell_type": "code",
   "execution_count": 5,
   "id": "dd30cb86",
   "metadata": {
    "ExecuteTime": {
     "end_time": "2024-05-21T18:07:15.073761Z",
     "start_time": "2024-05-21T18:07:15.057166Z"
    }
   },
   "outputs": [
    {
     "data": {
      "text/html": [
       "<div>\n",
       "<style scoped>\n",
       "    .dataframe tbody tr th:only-of-type {\n",
       "        vertical-align: middle;\n",
       "    }\n",
       "\n",
       "    .dataframe tbody tr th {\n",
       "        vertical-align: top;\n",
       "    }\n",
       "\n",
       "    .dataframe thead th {\n",
       "        text-align: right;\n",
       "    }\n",
       "</style>\n",
       "<table border=\"1\" class=\"dataframe\">\n",
       "  <thead>\n",
       "    <tr style=\"text-align: right;\">\n",
       "      <th></th>\n",
       "      <th>employee_id</th>\n",
       "      <th>department</th>\n",
       "      <th>remote_working</th>\n",
       "      <th>hours_worked_per_day</th>\n",
       "    </tr>\n",
       "  </thead>\n",
       "  <tbody>\n",
       "    <tr>\n",
       "      <th>0</th>\n",
       "      <td>E0001</td>\n",
       "      <td>HR</td>\n",
       "      <td>No</td>\n",
       "      <td>10.1</td>\n",
       "    </tr>\n",
       "    <tr>\n",
       "      <th>1</th>\n",
       "      <td>E0002</td>\n",
       "      <td>HR</td>\n",
       "      <td>No</td>\n",
       "      <td>8.5</td>\n",
       "    </tr>\n",
       "    <tr>\n",
       "      <th>2</th>\n",
       "      <td>E0003</td>\n",
       "      <td>IT</td>\n",
       "      <td>Yes</td>\n",
       "      <td>9.2</td>\n",
       "    </tr>\n",
       "    <tr>\n",
       "      <th>3</th>\n",
       "      <td>E0004</td>\n",
       "      <td>Marketing</td>\n",
       "      <td>No</td>\n",
       "      <td>10.7</td>\n",
       "    </tr>\n",
       "    <tr>\n",
       "      <th>4</th>\n",
       "      <td>E0005</td>\n",
       "      <td>Marketing</td>\n",
       "      <td>Yes</td>\n",
       "      <td>10.2</td>\n",
       "    </tr>\n",
       "  </tbody>\n",
       "</table>\n",
       "</div>"
      ],
      "text/plain": [
       "  employee_id department remote_working  hours_worked_per_day\n",
       "0       E0001         HR             No                  10.1\n",
       "1       E0002         HR             No                   8.5\n",
       "2       E0003         IT            Yes                   9.2\n",
       "3       E0004  Marketing             No                  10.7\n",
       "4       E0005  Marketing            Yes                  10.2"
      ]
     },
     "execution_count": 5,
     "metadata": {},
     "output_type": "execute_result"
    }
   ],
   "source": [
    "# Display the first few rows of the dataset to get an overview.\n",
    "df.head()"
   ]
  },
  {
   "cell_type": "markdown",
   "id": "f3b62614",
   "metadata": {},
   "source": [
    "### Task2: Statistical Measures of Work Hours\n",
    "\n",
    "Compute fundamental statistical measures for the 'hours_worked_per_day' column.\n",
    "- **Calculate the Mean**: Average number of hours worked per day by the employees.\n",
    "- **Compute the Standard Deviation**: The amount of variation or dispersion in the daily work hours."
   ]
  },
  {
   "cell_type": "code",
   "execution_count": 8,
   "id": "194393f2",
   "metadata": {
    "ExecuteTime": {
     "end_time": "2024-05-21T18:10:44.370771Z",
     "start_time": "2024-05-21T18:10:44.361419Z"
    }
   },
   "outputs": [
    {
     "name": "stdout",
     "output_type": "stream",
     "text": [
      "Average number of hours worked per day by the employees:8.0\n",
      "standard deviation of hours_worked_per day :1.3\n"
     ]
    }
   ],
   "source": [
    "Mean = round(df.hours_worked_per_day.mean(),1)\n",
    "print(f'Average number of hours worked per day by the employees:{Mean}')\n",
    "std=round(df.hours_worked_per_day.std(),1)\n",
    "print(f'standard deviation of hours_worked_per day :{std}')"
   ]
  },
  {
   "cell_type": "markdown",
   "id": "69f30183",
   "metadata": {},
   "source": [
    "### Task3: Calculating Z-Scores for Outlier Detection\n",
    "\n",
    "- **Compute Z-Scores:** For each entry in the 'hours_worked_per_day' column, calculate its Z-score. The Z-score represents how many standard deviations a value is from the mean, which is crucial for identifying outliers."
   ]
  },
  {
   "cell_type": "code",
   "execution_count": 13,
   "id": "69ea8c90",
   "metadata": {
    "ExecuteTime": {
     "end_time": "2024-05-21T18:18:33.566210Z",
     "start_time": "2024-05-21T18:18:33.535999Z"
    }
   },
   "outputs": [
    {
     "data": {
      "text/html": [
       "<div>\n",
       "<style scoped>\n",
       "    .dataframe tbody tr th:only-of-type {\n",
       "        vertical-align: middle;\n",
       "    }\n",
       "\n",
       "    .dataframe tbody tr th {\n",
       "        vertical-align: top;\n",
       "    }\n",
       "\n",
       "    .dataframe thead th {\n",
       "        text-align: right;\n",
       "    }\n",
       "</style>\n",
       "<table border=\"1\" class=\"dataframe\">\n",
       "  <thead>\n",
       "    <tr style=\"text-align: right;\">\n",
       "      <th></th>\n",
       "      <th>employee_id</th>\n",
       "      <th>department</th>\n",
       "      <th>remote_working</th>\n",
       "      <th>hours_worked_per_day</th>\n",
       "      <th>z_scores</th>\n",
       "    </tr>\n",
       "  </thead>\n",
       "  <tbody>\n",
       "    <tr>\n",
       "      <th>0</th>\n",
       "      <td>E0001</td>\n",
       "      <td>HR</td>\n",
       "      <td>No</td>\n",
       "      <td>10.1</td>\n",
       "      <td>1.615385</td>\n",
       "    </tr>\n",
       "    <tr>\n",
       "      <th>1</th>\n",
       "      <td>E0002</td>\n",
       "      <td>HR</td>\n",
       "      <td>No</td>\n",
       "      <td>8.5</td>\n",
       "      <td>0.384615</td>\n",
       "    </tr>\n",
       "    <tr>\n",
       "      <th>2</th>\n",
       "      <td>E0003</td>\n",
       "      <td>IT</td>\n",
       "      <td>Yes</td>\n",
       "      <td>9.2</td>\n",
       "      <td>0.923077</td>\n",
       "    </tr>\n",
       "    <tr>\n",
       "      <th>3</th>\n",
       "      <td>E0004</td>\n",
       "      <td>Marketing</td>\n",
       "      <td>No</td>\n",
       "      <td>10.7</td>\n",
       "      <td>2.076923</td>\n",
       "    </tr>\n",
       "    <tr>\n",
       "      <th>4</th>\n",
       "      <td>E0005</td>\n",
       "      <td>Marketing</td>\n",
       "      <td>Yes</td>\n",
       "      <td>10.2</td>\n",
       "      <td>1.692308</td>\n",
       "    </tr>\n",
       "  </tbody>\n",
       "</table>\n",
       "</div>"
      ],
      "text/plain": [
       "  employee_id department remote_working  hours_worked_per_day  z_scores\n",
       "0       E0001         HR             No                  10.1  1.615385\n",
       "1       E0002         HR             No                   8.5  0.384615\n",
       "2       E0003         IT            Yes                   9.2  0.923077\n",
       "3       E0004  Marketing             No                  10.7  2.076923\n",
       "4       E0005  Marketing            Yes                  10.2  1.692308"
      ]
     },
     "execution_count": 13,
     "metadata": {},
     "output_type": "execute_result"
    }
   ],
   "source": [
    "df['z_scores'] = (df['hours_worked_per_day'] - Mean) / std\n",
    "\n",
    "df.head()"
   ]
  },
  {
   "cell_type": "markdown",
   "id": "4310814a",
   "metadata": {},
   "source": [
    "### Task4: Removing Outliers Based on Z-Scores\n",
    "\n",
    "- Identify and exclude rows where the 'hours_worked_per_day' Z-score is less than -3 or greater than +3, thus removing outliers from the dataset."
   ]
  },
  {
   "cell_type": "code",
   "execution_count": 15,
   "id": "43ed89a7",
   "metadata": {
    "ExecuteTime": {
     "end_time": "2024-05-21T18:22:07.630363Z",
     "start_time": "2024-05-21T18:22:07.611135Z"
    },
    "scrolled": true
   },
   "outputs": [
    {
     "data": {
      "text/plain": [
       "(28, 5)"
      ]
     },
     "execution_count": 15,
     "metadata": {},
     "output_type": "execute_result"
    }
   ],
   "source": [
    "df_outliers_hours_worked_per_day= df[(df.z_scores<-3) | (df.z_scores> 3)]\n",
    "df_outliers_hours_worked_per_day.shape"
   ]
  },
  {
   "cell_type": "code",
   "execution_count": 16,
   "id": "78dd6576",
   "metadata": {
    "ExecuteTime": {
     "end_time": "2024-05-21T18:24:48.061758Z",
     "start_time": "2024-05-21T18:24:48.041522Z"
    }
   },
   "outputs": [
    {
     "data": {
      "text/html": [
       "<div>\n",
       "<style scoped>\n",
       "    .dataframe tbody tr th:only-of-type {\n",
       "        vertical-align: middle;\n",
       "    }\n",
       "\n",
       "    .dataframe tbody tr th {\n",
       "        vertical-align: top;\n",
       "    }\n",
       "\n",
       "    .dataframe thead th {\n",
       "        text-align: right;\n",
       "    }\n",
       "</style>\n",
       "<table border=\"1\" class=\"dataframe\">\n",
       "  <thead>\n",
       "    <tr style=\"text-align: right;\">\n",
       "      <th></th>\n",
       "      <th>employee_id</th>\n",
       "      <th>department</th>\n",
       "      <th>remote_working</th>\n",
       "      <th>hours_worked_per_day</th>\n",
       "      <th>z_scores</th>\n",
       "    </tr>\n",
       "  </thead>\n",
       "  <tbody>\n",
       "    <tr>\n",
       "      <th>0</th>\n",
       "      <td>E0001</td>\n",
       "      <td>HR</td>\n",
       "      <td>No</td>\n",
       "      <td>10.1</td>\n",
       "      <td>1.615385</td>\n",
       "    </tr>\n",
       "    <tr>\n",
       "      <th>1</th>\n",
       "      <td>E0002</td>\n",
       "      <td>HR</td>\n",
       "      <td>No</td>\n",
       "      <td>8.5</td>\n",
       "      <td>0.384615</td>\n",
       "    </tr>\n",
       "    <tr>\n",
       "      <th>2</th>\n",
       "      <td>E0003</td>\n",
       "      <td>IT</td>\n",
       "      <td>Yes</td>\n",
       "      <td>9.2</td>\n",
       "      <td>0.923077</td>\n",
       "    </tr>\n",
       "    <tr>\n",
       "      <th>3</th>\n",
       "      <td>E0004</td>\n",
       "      <td>Marketing</td>\n",
       "      <td>No</td>\n",
       "      <td>10.7</td>\n",
       "      <td>2.076923</td>\n",
       "    </tr>\n",
       "    <tr>\n",
       "      <th>4</th>\n",
       "      <td>E0005</td>\n",
       "      <td>Marketing</td>\n",
       "      <td>Yes</td>\n",
       "      <td>10.2</td>\n",
       "      <td>1.692308</td>\n",
       "    </tr>\n",
       "    <tr>\n",
       "      <th>...</th>\n",
       "      <td>...</td>\n",
       "      <td>...</td>\n",
       "      <td>...</td>\n",
       "      <td>...</td>\n",
       "      <td>...</td>\n",
       "    </tr>\n",
       "    <tr>\n",
       "      <th>2795</th>\n",
       "      <td>E2796</td>\n",
       "      <td>Marketing</td>\n",
       "      <td>No</td>\n",
       "      <td>7.6</td>\n",
       "      <td>-0.307692</td>\n",
       "    </tr>\n",
       "    <tr>\n",
       "      <th>2796</th>\n",
       "      <td>E2797</td>\n",
       "      <td>HR</td>\n",
       "      <td>No</td>\n",
       "      <td>6.9</td>\n",
       "      <td>-0.846154</td>\n",
       "    </tr>\n",
       "    <tr>\n",
       "      <th>2797</th>\n",
       "      <td>E2798</td>\n",
       "      <td>Sales</td>\n",
       "      <td>Yes</td>\n",
       "      <td>8.4</td>\n",
       "      <td>0.307692</td>\n",
       "    </tr>\n",
       "    <tr>\n",
       "      <th>2798</th>\n",
       "      <td>E2799</td>\n",
       "      <td>IT</td>\n",
       "      <td>Yes</td>\n",
       "      <td>6.3</td>\n",
       "      <td>-1.307692</td>\n",
       "    </tr>\n",
       "    <tr>\n",
       "      <th>2799</th>\n",
       "      <td>E2800</td>\n",
       "      <td>Sales</td>\n",
       "      <td>Yes</td>\n",
       "      <td>8.7</td>\n",
       "      <td>0.538462</td>\n",
       "    </tr>\n",
       "  </tbody>\n",
       "</table>\n",
       "<p>2772 rows × 5 columns</p>\n",
       "</div>"
      ],
      "text/plain": [
       "     employee_id department remote_working  hours_worked_per_day  z_scores\n",
       "0          E0001         HR             No                  10.1  1.615385\n",
       "1          E0002         HR             No                   8.5  0.384615\n",
       "2          E0003         IT            Yes                   9.2  0.923077\n",
       "3          E0004  Marketing             No                  10.7  2.076923\n",
       "4          E0005  Marketing            Yes                  10.2  1.692308\n",
       "...          ...        ...            ...                   ...       ...\n",
       "2795       E2796  Marketing             No                   7.6 -0.307692\n",
       "2796       E2797         HR             No                   6.9 -0.846154\n",
       "2797       E2798      Sales            Yes                   8.4  0.307692\n",
       "2798       E2799         IT            Yes                   6.3 -1.307692\n",
       "2799       E2800      Sales            Yes                   8.7  0.538462\n",
       "\n",
       "[2772 rows x 5 columns]"
      ]
     },
     "execution_count": 16,
     "metadata": {},
     "output_type": "execute_result"
    }
   ],
   "source": [
    "## Removing outliers\n",
    "\n",
    "df_no_outliers= df[(df.z_scores>-3) & (df.z_scores < 3)]\n",
    "df_no_outliers"
   ]
  },
  {
   "cell_type": "markdown",
   "id": "09926056",
   "metadata": {},
   "source": [
    "### Task5: Standard Normal Distribution Post-Outlier Removal\n",
    "\n",
    "-  Construct a visual plot of the Standard Normal Distribution using the Z-scores from the 'hours_worked_per_day' data, ensuring to include only the data after outlier removal. "
   ]
  },
  {
   "cell_type": "code",
   "execution_count": 17,
   "id": "eca3fffb",
   "metadata": {
    "ExecuteTime": {
     "end_time": "2024-05-21T18:26:15.509095Z",
     "start_time": "2024-05-21T18:26:15.176226Z"
    }
   },
   "outputs": [
    {
     "data": {
      "text/plain": [
       "<Axes: xlabel='z_scores', ylabel='Count'>"
      ]
     },
     "execution_count": 17,
     "metadata": {},
     "output_type": "execute_result"
    },
    {
     "data": {
      "image/png": "[encoded data removed]",
      "text/plain": [
       "<Figure size 640x480 with 1 Axes>"
      ]
     },
     "metadata": {},
     "output_type": "display_data"
    }
   ],
   "source": [
    "sns.histplot(df_no_outliers.z_scores,kde= True)"
   ]
  },
  {
   "cell_type": "code",
   "execution_count": null,
   "id": "cb7c85f6",
   "metadata": {},
   "outputs": [],
   "source": []
  }
 ],
 "metadata": {
  "kernelspec": {
   "display_name": "Python 3 (ipykernel)",
   "language": "python",
   "name": "python3"
  },
  "language_info": {
   "codemirror_mode": {
    "name": "ipython",
    "version": 3
   },
   "file_extension": ".py",
   "mimetype": "text/x-python",
   "name": "python",
   "nbconvert_exporter": "python",
   "pygments_lexer": "ipython3",
   "version": "3.8.10"
  },
  "toc": {
   "base_numbering": 1,
   "nav_menu": {},
   "number_sections": true,
   "sideBar": true,
   "skip_h1_title": false,
   "title_cell": "Table of Contents",
   "title_sidebar": "Contents",
   "toc_cell": false,
   "toc_position": {},
   "toc_section_display": true,
   "toc_window_display": false
  },
  "varInspector": {
   "cols": {
    "lenName": 16,
    "lenType": 16,
    "lenVar": 40
   },
   "kernels_config": {
    "python": {
     "delete_cmd_postfix": "",
     "delete_cmd_prefix": "del ",
     "library": "var_list.py",
     "varRefreshCmd": "print(var_dic_list())"
    },
    "r": {
     "delete_cmd_postfix": ") ",
     "delete_cmd_prefix": "rm(",
     "library": "var_list.r",
     "varRefreshCmd": "cat(var_dic_list()) "
    }
   },
   "types_to_exclude": [
    "module",
    "function",
    "builtin_function_or_method",
    "instance",
    "_Feature"
   ],
   "window_display": false
  }
 },
 "nbformat": 4,
 "nbformat_minor": 5
}
