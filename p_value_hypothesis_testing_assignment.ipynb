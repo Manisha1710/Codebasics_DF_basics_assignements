{
 "cells": [
  {
   "cell_type": "markdown",
   "id": "cc95e533",
   "metadata": {},
   "source": [
    "## Problem Statement\n",
    "\n",
    "A company has recently implemented a new marketing campaign for one of its products. The company wants to assess if this campaign has significantly increased the product's average monthly sales by more than 15%.\n",
    "To evaluate the impact of this campaign, the company has compiled a sample dataset named **\"monthly_sales_data.csv\"**. It contains the following columns:\n",
    "\n",
    "- **product_id:** A unique identifier for each product.\n",
    "- **sales_increase_pct:** The percentage increase in monthly sales for each product as a result of the new marketing campaign.\n",
    "\n",
    "\n",
    "The primary goal of the analysis is to determine whether this campaign increased the product's average monthly sales by more than 15%.\n"
   ]
  },
  {
   "cell_type": "code",
   "execution_count": 8,
   "id": "61a244f1",
   "metadata": {
    "ExecuteTime": {
     "end_time": "2024-05-25T13:04:45.920570Z",
     "start_time": "2024-05-25T13:04:45.909818Z"
    }
   },
   "outputs": [],
   "source": [
    "#given population parameters\n",
    "\n",
    "population_mean = 12  #(This implies that before the new campaign, the average increase in sales was around 12%)\n",
    "population_std_dev = 5  #(variability)"
   ]
  },
  {
   "cell_type": "code",
   "execution_count": null,
   "id": "f40f9bb8",
   "metadata": {},
   "outputs": [],
   "source": []
  },
  {
   "cell_type": "markdown",
   "id": "fa078eaf",
   "metadata": {},
   "source": [
    "**Import Necessary Libraries**"
   ]
  },
  {
   "cell_type": "code",
   "execution_count": 1,
   "id": "a54057a8",
   "metadata": {
    "ExecuteTime": {
     "end_time": "2024-05-25T12:55:26.697999Z",
     "start_time": "2024-05-25T12:55:24.469103Z"
    }
   },
   "outputs": [],
   "source": [
    "import pandas as pd \n",
    "import numpy as np\n",
    "import seaborn as sns \n",
    "from matplotlib import pyplot as plt \n",
    "from scipy import stats as st "
   ]
  },
  {
   "cell_type": "code",
   "execution_count": null,
   "id": "b05e2db0",
   "metadata": {},
   "outputs": [],
   "source": []
  },
  {
   "cell_type": "markdown",
   "id": "0386ef8f",
   "metadata": {},
   "source": [
    "### Task1: Data Import\n",
    "\n",
    "1. Import the data from the \"monthly_sales_data.csv\" file.\n",
    "2. display the number of rows and columns. \n",
    "3. Display the first few rows of the dataset to get an overview.\n"
   ]
  },
  {
   "cell_type": "code",
   "execution_count": 2,
   "id": "cb9e0ad1",
   "metadata": {
    "ExecuteTime": {
     "end_time": "2024-05-25T12:56:48.866912Z",
     "start_time": "2024-05-25T12:56:48.852273Z"
    }
   },
   "outputs": [],
   "source": [
    "# import the data from the monthly_sales_data.csv file\n",
    "\n",
    "df = pd.read_csv (\"C:/Users/MANISHA/chapter10_exercise2/monthly_sales_data.csv\") "
   ]
  },
  {
   "cell_type": "code",
   "execution_count": 3,
   "id": "bad173af",
   "metadata": {
    "ExecuteTime": {
     "end_time": "2024-05-25T12:57:10.780175Z",
     "start_time": "2024-05-25T12:57:10.762380Z"
    }
   },
   "outputs": [
    {
     "data": {
      "text/plain": [
       "(100, 2)"
      ]
     },
     "execution_count": 3,
     "metadata": {},
     "output_type": "execute_result"
    }
   ],
   "source": [
    "# display the number of rows and columns\n",
    "\n",
    "df.shape "
   ]
  },
  {
   "cell_type": "code",
   "execution_count": 4,
   "id": "32286378",
   "metadata": {
    "ExecuteTime": {
     "end_time": "2024-05-25T12:57:50.054067Z",
     "start_time": "2024-05-25T12:57:50.034867Z"
    }
   },
   "outputs": [
    {
     "data": {
      "text/html": [
       "<div>\n",
       "<style scoped>\n",
       "    .dataframe tbody tr th:only-of-type {\n",
       "        vertical-align: middle;\n",
       "    }\n",
       "\n",
       "    .dataframe tbody tr th {\n",
       "        vertical-align: top;\n",
       "    }\n",
       "\n",
       "    .dataframe thead th {\n",
       "        text-align: right;\n",
       "    }\n",
       "</style>\n",
       "<table border=\"1\" class=\"dataframe\">\n",
       "  <thead>\n",
       "    <tr style=\"text-align: right;\">\n",
       "      <th></th>\n",
       "      <th>product_id</th>\n",
       "      <th>sales_increase_pct</th>\n",
       "    </tr>\n",
       "  </thead>\n",
       "  <tbody>\n",
       "    <tr>\n",
       "      <th>0</th>\n",
       "      <td>P0001</td>\n",
       "      <td>19.23</td>\n",
       "    </tr>\n",
       "    <tr>\n",
       "      <th>1</th>\n",
       "      <td>P0002</td>\n",
       "      <td>25.47</td>\n",
       "    </tr>\n",
       "    <tr>\n",
       "      <th>2</th>\n",
       "      <td>P0003</td>\n",
       "      <td>19.16</td>\n",
       "    </tr>\n",
       "    <tr>\n",
       "      <th>3</th>\n",
       "      <td>P0004</td>\n",
       "      <td>17.77</td>\n",
       "    </tr>\n",
       "    <tr>\n",
       "      <th>4</th>\n",
       "      <td>P0005</td>\n",
       "      <td>11.35</td>\n",
       "    </tr>\n",
       "  </tbody>\n",
       "</table>\n",
       "</div>"
      ],
      "text/plain": [
       "  product_id  sales_increase_pct\n",
       "0      P0001               19.23\n",
       "1      P0002               25.47\n",
       "2      P0003               19.16\n",
       "3      P0004               17.77\n",
       "4      P0005               11.35"
      ]
     },
     "execution_count": 4,
     "metadata": {},
     "output_type": "execute_result"
    }
   ],
   "source": [
    "# display the first few rows of the dataset to get an overview\n",
    "\n",
    "df.head ()"
   ]
  },
  {
   "cell_type": "markdown",
   "id": "d5d44102",
   "metadata": {},
   "source": [
    "### Task2: Define Hypotheses\n",
    "\n",
    "- State the null and alternative hypotheses based on the given scenario."
   ]
  },
  {
   "cell_type": "markdown",
   "id": "b63653c9",
   "metadata": {},
   "source": [
    "#####  Ho:the increase in average monthly sales is less than or equal to 15%.\n",
    "Ha: he increase in average monthly sales is greater than 15%\n",
    "\n",
    "Ho: μ≤15%\n",
    "Ha: μ>15%\n"
   ]
  },
  {
   "cell_type": "markdown",
   "id": "7bca31a1",
   "metadata": {},
   "source": [
    "### Task3: Calculate Test Statistics\n",
    "\n",
    "- Compute the sample mean of cost_reduction_pct.\n",
    "- Determine the sample size.\n",
    "- Calculate the standard error using the provided population standard deviation.\n",
    "- Compute the Z-score for the test statistic"
   ]
  },
  {
   "cell_type": "code",
   "execution_count": 5,
   "id": "9e1ecec6",
   "metadata": {
    "ExecuteTime": {
     "end_time": "2024-05-25T13:03:18.376286Z",
     "start_time": "2024-05-25T13:03:18.366103Z"
    }
   },
   "outputs": [
    {
     "data": {
      "text/plain": [
       "15.4845"
      ]
     },
     "execution_count": 5,
     "metadata": {},
     "output_type": "execute_result"
    }
   ],
   "source": [
    "#1. sample mean of cost_reduction_pct\n",
    "sample_mean = df.sales_increase_pct.mean()\n",
    "sample_mean"
   ]
  },
  {
   "cell_type": "code",
   "execution_count": 6,
   "id": "10423a86",
   "metadata": {
    "ExecuteTime": {
     "end_time": "2024-05-25T13:03:52.181581Z",
     "start_time": "2024-05-25T13:03:52.164208Z"
    }
   },
   "outputs": [
    {
     "data": {
      "text/plain": [
       "100"
      ]
     },
     "execution_count": 6,
     "metadata": {},
     "output_type": "execute_result"
    }
   ],
   "source": [
    "#2. sample size\n",
    "sample_size = df.shape[0]\n",
    "sample_size"
   ]
  },
  {
   "cell_type": "code",
   "execution_count": 9,
   "id": "b0b85b12",
   "metadata": {
    "ExecuteTime": {
     "end_time": "2024-05-25T13:04:50.607638Z",
     "start_time": "2024-05-25T13:04:50.598641Z"
    }
   },
   "outputs": [
    {
     "data": {
      "text/plain": [
       "0.5"
      ]
     },
     "execution_count": 9,
     "metadata": {},
     "output_type": "execute_result"
    }
   ],
   "source": [
    "#3. standard error\n",
    "standard_error = population_std_dev/np.sqrt(sample_size)\n",
    "standard_error"
   ]
  },
  {
   "cell_type": "code",
   "execution_count": 10,
   "id": "5514ffe1",
   "metadata": {
    "ExecuteTime": {
     "end_time": "2024-05-25T13:05:41.935158Z",
     "start_time": "2024-05-25T13:05:41.927402Z"
    }
   },
   "outputs": [
    {
     "data": {
      "text/plain": [
       "6.97"
      ]
     },
     "execution_count": 10,
     "metadata": {},
     "output_type": "execute_result"
    }
   ],
   "source": [
    "#4. z_score\n",
    "z_score = round((sample_mean-population_mean)/standard_error, 2)\n",
    "z_score"
   ]
  },
  {
   "cell_type": "markdown",
   "id": "2dc258c4",
   "metadata": {},
   "source": [
    "### Task4: Calculate the P-Value\n",
    "\n",
    "- Set the significance level (e.g., alpha = 0.05).\n",
    "- Calculate the p-value associated with the obtained z-score."
   ]
  },
  {
   "cell_type": "code",
   "execution_count": 11,
   "id": "1bb71c91",
   "metadata": {
    "ExecuteTime": {
     "end_time": "2024-05-25T13:06:36.424405Z",
     "start_time": "2024-05-25T13:06:36.413787Z"
    }
   },
   "outputs": [],
   "source": [
    "#defining significance level\n",
    "alpha = 0.05"
   ]
  },
  {
   "cell_type": "code",
   "execution_count": 12,
   "id": "2f3f77f1",
   "metadata": {
    "ExecuteTime": {
     "end_time": "2024-05-25T13:07:06.097346Z",
     "start_time": "2024-05-25T13:07:06.084642Z"
    }
   },
   "outputs": [
    {
     "data": {
      "text/plain": [
       "1.5847323453499484e-12"
      ]
     },
     "execution_count": 12,
     "metadata": {},
     "output_type": "execute_result"
    }
   ],
   "source": [
    "#p-value\n",
    "\n",
    "p_value = 1- st.norm.cdf(z_score) ## get P value from Z_score\n",
    "p_value "
   ]
  },
  {
   "cell_type": "markdown",
   "id": "f6be7304",
   "metadata": {},
   "source": [
    "### Task5: Decision Making\n",
    "\n",
    "- Compare the calculated p-value with the alpha.\n",
    "- Decide whether to reject or fail to reject the null hypothesis.\n",
    "- Write a conclusion summarizing the findings."
   ]
  },
  {
   "cell_type": "code",
   "execution_count": 13,
   "id": "6c5b4e05",
   "metadata": {
    "ExecuteTime": {
     "end_time": "2024-05-25T13:07:33.761502Z",
     "start_time": "2024-05-25T13:07:33.753339Z"
    }
   },
   "outputs": [
    {
     "data": {
      "text/plain": [
       "(1.5847323453499484e-12, 0.05)"
      ]
     },
     "execution_count": 13,
     "metadata": {},
     "output_type": "execute_result"
    }
   ],
   "source": [
    "p_value,alpha"
   ]
  },
  {
   "cell_type": "code",
   "execution_count": 14,
   "id": "6f7e4c09",
   "metadata": {
    "ExecuteTime": {
     "end_time": "2024-05-25T13:09:43.538180Z",
     "start_time": "2024-05-25T13:09:43.529231Z"
    }
   },
   "outputs": [
    {
     "name": "stdout",
     "output_type": "stream",
     "text": [
      "Reject the null hypothesis\n"
     ]
    }
   ],
   "source": [
    "if p_value < alpha:\n",
    "    print(\"Reject the null hypothesis\")\n",
    "else:\n",
    "    print(\"Accept the null hypothesis\")"
   ]
  },
  {
   "cell_type": "markdown",
   "id": "0928433c",
   "metadata": {},
   "source": [
    "##### p_value is less than alpha value hence we reject the null hypothesis it means we accept alternative hypothesis. increase in average monthly sales is greater than 15%"
   ]
  },
  {
   "cell_type": "markdown",
   "id": "3a2ab936",
   "metadata": {},
   "source": [
    "## Summary\n"
   ]
  }
 ],
 "metadata": {
  "kernelspec": {
   "display_name": "Python 3 (ipykernel)",
   "language": "python",
   "name": "python3"
  },
  "language_info": {
   "codemirror_mode": {
    "name": "ipython",
    "version": 3
   },
   "file_extension": ".py",
   "mimetype": "text/x-python",
   "name": "python",
   "nbconvert_exporter": "python",
   "pygments_lexer": "ipython3",
   "version": "3.8.10"
  },
  "toc": {
   "base_numbering": 1,
   "nav_menu": {},
   "number_sections": true,
   "sideBar": true,
   "skip_h1_title": false,
   "title_cell": "Table of Contents",
   "title_sidebar": "Contents",
   "toc_cell": false,
   "toc_position": {},
   "toc_section_display": true,
   "toc_window_display": false
  },
  "varInspector": {
   "cols": {
    "lenName": 16,
    "lenType": 16,
    "lenVar": 40
   },
   "kernels_config": {
    "python": {
     "delete_cmd_postfix": "",
     "delete_cmd_prefix": "del ",
     "library": "var_list.py",
     "varRefreshCmd": "print(var_dic_list())"
    },
    "r": {
     "delete_cmd_postfix": ") ",
     "delete_cmd_prefix": "rm(",
     "library": "var_list.r",
     "varRefreshCmd": "cat(var_dic_list()) "
    }
   },
   "types_to_exclude": [
    "module",
    "function",
    "builtin_function_or_method",
    "instance",
    "_Feature"
   ],
   "window_display": false
  }
 },
 "nbformat": 4,
 "nbformat_minor": 5
}
