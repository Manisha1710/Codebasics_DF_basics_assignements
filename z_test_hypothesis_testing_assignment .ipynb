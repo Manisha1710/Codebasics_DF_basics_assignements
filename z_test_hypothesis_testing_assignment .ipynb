{
 "cells": [
  {
   "cell_type": "markdown",
   "id": "65671fc3",
   "metadata": {},
   "source": [
    "## Problem Statement\n",
    "\n",
    "You are a data scientist at a business efficiency consulting firm. Your client, a multinational corporation, has recently implemented a series of cost-saving measures across various departments.  To evaluate the impact of these initiatives, the company has compiled a sample dataset named **\"operational_costs_data.csv\"**. This sample dataset tracks the percentage reduction in operational costs for each department post-implementation of the cost-saving activities. The dataset includes the following columns:\n",
    "\n",
    "\n",
    "\n",
    "- **department_id:** A unique identifier for each department.\n",
    "- **cost_reduction_pct:** The percentage reduction in operational costs for each department following the cost-saving measures..\n",
    "\n",
    "The primary goal of the analysis is to determine whether these cost-saving measures have effectively reduced operational costs beyond the company's target of 8%. "
   ]
  },
  {
   "cell_type": "code",
   "execution_count": 5,
   "id": "b5bfa9a7",
   "metadata": {
    "ExecuteTime": {
     "end_time": "2024-05-25T10:17:58.529418Z",
     "start_time": "2024-05-25T10:17:58.505656Z"
    }
   },
   "outputs": [],
   "source": [
    "#given population parameters\n",
    "\n",
    "population_mean = 7  #(indicating an average cost reduction target of 7% before the series of cost-saving measures).\n",
    "population_std_dev = 3  #(variability)."
   ]
  },
  {
   "cell_type": "code",
   "execution_count": null,
   "id": "529df852",
   "metadata": {},
   "outputs": [],
   "source": []
  },
  {
   "cell_type": "markdown",
   "id": "9f26dfcf",
   "metadata": {},
   "source": [
    "**Import Necessary Libraries**"
   ]
  },
  {
   "cell_type": "code",
   "execution_count": 1,
   "id": "45e6bd30",
   "metadata": {
    "ExecuteTime": {
     "end_time": "2024-05-25T10:13:45.216057Z",
     "start_time": "2024-05-25T10:13:42.187308Z"
    }
   },
   "outputs": [],
   "source": [
    "import pandas as pd \n",
    "import numpy as  np\n",
    "import seaborn as sns\n",
    "from matplotlib import pyplot as plt \n",
    "from scipy import stats as st "
   ]
  },
  {
   "cell_type": "code",
   "execution_count": null,
   "id": "bb88c8e9",
   "metadata": {},
   "outputs": [],
   "source": []
  },
  {
   "cell_type": "markdown",
   "id": "8747165a",
   "metadata": {},
   "source": [
    "### Task1: Data Import\n",
    "\n",
    "1. Import the data from the \"operational_costs_data.csv\" file.\n",
    "2. display the number of rows and columns. \n",
    "3. Display the first few rows of the dataset to get an overview.\n"
   ]
  },
  {
   "cell_type": "code",
   "execution_count": 2,
   "id": "42830f98",
   "metadata": {
    "ExecuteTime": {
     "end_time": "2024-05-25T10:15:04.043521Z",
     "start_time": "2024-05-25T10:15:04.013047Z"
    }
   },
   "outputs": [],
   "source": [
    "# Import the data from the\"operational_costs_data.csv\n",
    "\n",
    "df = pd.read_csv(\"C:/Users/MANISHA/chapter10_exercise1/operational_costs_data.csv\")"
   ]
  },
  {
   "cell_type": "code",
   "execution_count": 3,
   "id": "827f60e6",
   "metadata": {
    "ExecuteTime": {
     "end_time": "2024-05-25T10:15:30.688386Z",
     "start_time": "2024-05-25T10:15:30.655590Z"
    }
   },
   "outputs": [
    {
     "data": {
      "text/plain": [
       "(100, 2)"
      ]
     },
     "execution_count": 3,
     "metadata": {},
     "output_type": "execute_result"
    }
   ],
   "source": [
    "# display the number of rows and columns\n",
    "\n",
    "df.shape "
   ]
  },
  {
   "cell_type": "code",
   "execution_count": 4,
   "id": "13ecc4ea",
   "metadata": {
    "ExecuteTime": {
     "end_time": "2024-05-25T10:15:59.572128Z",
     "start_time": "2024-05-25T10:15:59.531460Z"
    }
   },
   "outputs": [
    {
     "data": {
      "text/html": [
       "<div>\n",
       "<style scoped>\n",
       "    .dataframe tbody tr th:only-of-type {\n",
       "        vertical-align: middle;\n",
       "    }\n",
       "\n",
       "    .dataframe tbody tr th {\n",
       "        vertical-align: top;\n",
       "    }\n",
       "\n",
       "    .dataframe thead th {\n",
       "        text-align: right;\n",
       "    }\n",
       "</style>\n",
       "<table border=\"1\" class=\"dataframe\">\n",
       "  <thead>\n",
       "    <tr style=\"text-align: right;\">\n",
       "      <th></th>\n",
       "      <th>department_id</th>\n",
       "      <th>cost_reduction_pct</th>\n",
       "    </tr>\n",
       "  </thead>\n",
       "  <tbody>\n",
       "    <tr>\n",
       "      <th>0</th>\n",
       "      <td>D001</td>\n",
       "      <td>7.40</td>\n",
       "    </tr>\n",
       "    <tr>\n",
       "      <th>1</th>\n",
       "      <td>D002</td>\n",
       "      <td>11.31</td>\n",
       "    </tr>\n",
       "    <tr>\n",
       "      <th>2</th>\n",
       "      <td>D003</td>\n",
       "      <td>10.78</td>\n",
       "    </tr>\n",
       "    <tr>\n",
       "      <th>3</th>\n",
       "      <td>D004</td>\n",
       "      <td>8.79</td>\n",
       "    </tr>\n",
       "    <tr>\n",
       "      <th>4</th>\n",
       "      <td>D005</td>\n",
       "      <td>3.29</td>\n",
       "    </tr>\n",
       "  </tbody>\n",
       "</table>\n",
       "</div>"
      ],
      "text/plain": [
       "  department_id  cost_reduction_pct\n",
       "0          D001                7.40\n",
       "1          D002               11.31\n",
       "2          D003               10.78\n",
       "3          D004                8.79\n",
       "4          D005                3.29"
      ]
     },
     "execution_count": 4,
     "metadata": {},
     "output_type": "execute_result"
    }
   ],
   "source": [
    "# display the first few rows of the dataset to get an overview\n",
    "\n",
    "df.head()"
   ]
  },
  {
   "cell_type": "markdown",
   "id": "ac112b69",
   "metadata": {},
   "source": [
    "### Task2: Define Hypotheses\n",
    "\n",
    "- State the null and alternative hypotheses based on the given scenario."
   ]
  },
  {
   "cell_type": "code",
   "execution_count": 9,
   "id": "f18f2a85",
   "metadata": {
    "ExecuteTime": {
     "end_time": "2024-05-25T10:22:13.520572Z",
     "start_time": "2024-05-25T10:22:13.497171Z"
    }
   },
   "outputs": [],
   "source": [
    "Ho: population_mean<=8 \n",
    "Ha: population_mean>8\n",
    "\n",
    "## Ho:The cost-saving measures have not reduced operational costs beyond the company's target of 8%. \n",
    "##In other words, the reduction in operational costs is less than or equal to 8%.\n",
    "\n",
    "## Ha: The cost-saving measures have reduced operational costs beyond the company's target of 8%. \n",
    "##In other words, the reduction in operational costs is greater than 8%.\n",
    "\n"
   ]
  },
  {
   "cell_type": "markdown",
   "id": "80cc154a",
   "metadata": {},
   "source": [
    "### Task3: Calculate Test Statistics\n",
    "\n",
    "- Compute the sample mean of cost_reduction_pct.\n",
    "- Determine the sample size.\n",
    "- Calculate the standard error using the provided population standard deviation.\n",
    "- Compute the Z-score for the test statistic"
   ]
  },
  {
   "cell_type": "code",
   "execution_count": 11,
   "id": "03b8c565",
   "metadata": {
    "ExecuteTime": {
     "end_time": "2024-05-25T10:23:11.851939Z",
     "start_time": "2024-05-25T10:23:11.820804Z"
    }
   },
   "outputs": [
    {
     "data": {
      "text/plain": [
       "7.2562"
      ]
     },
     "execution_count": 11,
     "metadata": {},
     "output_type": "execute_result"
    }
   ],
   "source": [
    "#1. sample mean of cost_reduction_pct\n",
    "sample_mean = df.cost_reduction_pct.mean()\n",
    "sample_mean"
   ]
  },
  {
   "cell_type": "code",
   "execution_count": 12,
   "id": "24a63c87",
   "metadata": {
    "ExecuteTime": {
     "end_time": "2024-05-25T10:24:20.760625Z",
     "start_time": "2024-05-25T10:24:20.736442Z"
    }
   },
   "outputs": [
    {
     "data": {
      "text/plain": [
       "100"
      ]
     },
     "execution_count": 12,
     "metadata": {},
     "output_type": "execute_result"
    }
   ],
   "source": [
    "#2. sample size\n",
    "sample_size = df.shape[0]\n",
    "sample_size "
   ]
  },
  {
   "cell_type": "code",
   "execution_count": 13,
   "id": "e40902cc",
   "metadata": {
    "ExecuteTime": {
     "end_time": "2024-05-25T10:25:40.995104Z",
     "start_time": "2024-05-25T10:25:40.978407Z"
    }
   },
   "outputs": [
    {
     "data": {
      "text/plain": [
       "0.3"
      ]
     },
     "execution_count": 13,
     "metadata": {},
     "output_type": "execute_result"
    }
   ],
   "source": [
    "#3. standard error\n",
    "standard_error = population_std_dev/np.sqrt(sample_size)\n",
    "standard_error "
   ]
  },
  {
   "cell_type": "code",
   "execution_count": 19,
   "id": "51e1b7fe",
   "metadata": {
    "ExecuteTime": {
     "end_time": "2024-05-25T10:38:03.816271Z",
     "start_time": "2024-05-25T10:38:03.775843Z"
    }
   },
   "outputs": [
    {
     "data": {
      "text/plain": [
       "0.85"
      ]
     },
     "execution_count": 19,
     "metadata": {},
     "output_type": "execute_result"
    }
   ],
   "source": [
    "#4. z_score\n",
    "\n",
    "z_score = round((sample_mean - population_mean)/standard_error,2)\n",
    "z_score"
   ]
  },
  {
   "cell_type": "markdown",
   "id": "ac0c91e0",
   "metadata": {},
   "source": [
    "### Task4: Determine Z-critical Value\n",
    "\n",
    "- Set the significance level (e.g., alpha = 0.05).\n",
    "- Find the critical Z-value corresponding to this alpha level."
   ]
  },
  {
   "cell_type": "code",
   "execution_count": 16,
   "id": "0f2ef006",
   "metadata": {
    "ExecuteTime": {
     "end_time": "2024-05-25T10:29:37.290885Z",
     "start_time": "2024-05-25T10:29:37.263778Z"
    }
   },
   "outputs": [
    {
     "data": {
      "text/plain": [
       "0.050000000000000044"
      ]
     },
     "execution_count": 16,
     "metadata": {},
     "output_type": "execute_result"
    }
   ],
   "source": [
    "#defining significance level\n",
    "\n",
    "confidence_level = 0.95\n",
    "alpha = 1 - confidence_level\n",
    "alpha\n"
   ]
  },
  {
   "cell_type": "code",
   "execution_count": 17,
   "id": "dcf84e06",
   "metadata": {
    "ExecuteTime": {
     "end_time": "2024-05-25T10:30:44.061138Z",
     "start_time": "2024-05-25T10:30:44.036212Z"
    }
   },
   "outputs": [
    {
     "data": {
      "text/plain": [
       "1.6448536269514722"
      ]
     },
     "execution_count": 17,
     "metadata": {},
     "output_type": "execute_result"
    }
   ],
   "source": [
    "#critical value\n",
    "\n",
    "z_critical_value = st.norm.ppf(1-alpha)\n",
    "\n",
    "z_critical_value"
   ]
  },
  {
   "cell_type": "code",
   "execution_count": 20,
   "id": "fd4b771f",
   "metadata": {
    "ExecuteTime": {
     "end_time": "2024-05-25T10:38:56.432662Z",
     "start_time": "2024-05-25T10:38:56.417315Z"
    }
   },
   "outputs": [
    {
     "data": {
      "text/plain": [
       "(0.85, 1.6448536269514722)"
      ]
     },
     "execution_count": 20,
     "metadata": {},
     "output_type": "execute_result"
    }
   ],
   "source": [
    "z_score , z_critical_value"
   ]
  },
  {
   "cell_type": "markdown",
   "id": "de17c6b6",
   "metadata": {},
   "source": [
    "### Task5: Decision Making\n",
    "\n",
    "- Compare the calculated Z-score with the critical Z-value.\n",
    "- Decide whether to reject or fail to reject the null hypothesis.\n",
    "- Write a conclusion summarizing the findings."
   ]
  },
  {
   "cell_type": "code",
   "execution_count": 18,
   "id": "599be96a",
   "metadata": {
    "ExecuteTime": {
     "end_time": "2024-05-25T10:32:22.853466Z",
     "start_time": "2024-05-25T10:32:22.843745Z"
    }
   },
   "outputs": [
    {
     "name": "stdout",
     "output_type": "stream",
     "text": [
      "Accept the null hypothesis\n"
     ]
    }
   ],
   "source": [
    "if z_score > z_critical_value:\n",
    "    print(\"Reject the null hypothesis\")\n",
    "else:\n",
    "    print(\"Accept the null hypothesis\")"
   ]
  },
  {
   "cell_type": "markdown",
   "id": "44d96ba6",
   "metadata": {},
   "source": [
    "## Summary\n",
    "\n"
   ]
  },
  {
   "cell_type": "markdown",
   "id": "1f2e6b55",
   "metadata": {},
   "source": [
    "## Calculated Z_Score is less than z_critical value hence fail to reject the null hypothsis. it means that The cost-saving measures have not reduced operational costs beyond the company's target of 8%. \n",
    "\n",
    "##In other words, the reduction in operational costs is less than or equal to 8%.\n"
   ]
  },
  {
   "cell_type": "code",
   "execution_count": null,
   "id": "07ac14a4",
   "metadata": {},
   "outputs": [],
   "source": []
  }
 ],
 "metadata": {
  "kernelspec": {
   "display_name": "Python 3 (ipykernel)",
   "language": "python",
   "name": "python3"
  },
  "language_info": {
   "codemirror_mode": {
    "name": "ipython",
    "version": 3
   },
   "file_extension": ".py",
   "mimetype": "text/x-python",
   "name": "python",
   "nbconvert_exporter": "python",
   "pygments_lexer": "ipython3",
   "version": "3.8.10"
  },
  "toc": {
   "base_numbering": 1,
   "nav_menu": {},
   "number_sections": true,
   "sideBar": true,
   "skip_h1_title": false,
   "title_cell": "Table of Contents",
   "title_sidebar": "Contents",
   "toc_cell": false,
   "toc_position": {},
   "toc_section_display": true,
   "toc_window_display": false
  },
  "varInspector": {
   "cols": {
    "lenName": 16,
    "lenType": 16,
    "lenVar": 40
   },
   "kernels_config": {
    "python": {
     "delete_cmd_postfix": "",
     "delete_cmd_prefix": "del ",
     "library": "var_list.py",
     "varRefreshCmd": "print(var_dic_list())"
    },
    "r": {
     "delete_cmd_postfix": ") ",
     "delete_cmd_prefix": "rm(",
     "library": "var_list.r",
     "varRefreshCmd": "cat(var_dic_list()) "
    }
   },
   "types_to_exclude": [
    "module",
    "function",
    "builtin_function_or_method",
    "instance",
    "_Feature"
   ],
   "window_display": false
  }
 },
 "nbformat": 4,
 "nbformat_minor": 5
}
